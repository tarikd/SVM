{
 "metadata": {
  "name": "",
  "signature": "sha256:07f07e4720f4a16fd14658ca2dd7980749dfa103920367ca89e0fb2af060562b"
 },
 "nbformat": 3,
 "nbformat_minor": 0,
 "worksheets": [
  {
   "cells": [
    {
     "cell_type": "heading",
     "level": 1,
     "metadata": {},
     "source": [
      "Data Preprocessing"
     ]
    },
    {
     "cell_type": "heading",
     "level": 3,
     "metadata": {},
     "source": [
      "Data Loading"
     ]
    },
    {
     "cell_type": "markdown",
     "metadata": {},
     "source": [
      "* We use Numpy's built in method to load the data from txt file.\n",
      "* We also specify various column headers in data_headers."
     ]
    },
    {
     "cell_type": "code",
     "collapsed": false,
     "input": [
      "import numpy as np\n",
      "\n",
      "data_headers=['age','workclass','fnlwgt','education','education_num','marital_status','occupation','relationship','race','sex','capital_gain'\\\n",
      "              ,'capital_loss','hours_per_week','native_country','salary']"
     ],
     "language": "python",
     "metadata": {},
     "outputs": [],
     "prompt_number": 101
    },
    {
     "cell_type": "code",
     "collapsed": false,
     "input": [
      "data=np.array(np.genfromtxt('dataset.txt', dtype=(int, 'S32',int, 'S32',int,'S32'\\\n",
      ",'S32','S32','S32','S32',int,int,int,'S32','S32'),delimiter=',',autostrip=True,names=data_headers))"
     ],
     "language": "python",
     "metadata": {},
     "outputs": [],
     "prompt_number": 102
    },
    {
     "cell_type": "markdown",
     "metadata": {},
     "source": [
      "* We now see the shape of the matrix obtained."
     ]
    },
    {
     "cell_type": "code",
     "collapsed": false,
     "input": [
      "data.shape"
     ],
     "language": "python",
     "metadata": {},
     "outputs": [
      {
       "metadata": {},
       "output_type": "pyout",
       "prompt_number": 103,
       "text": [
        "(32561,)"
       ]
      }
     ],
     "prompt_number": 103
    },
    {
     "cell_type": "heading",
     "level": 3,
     "metadata": {},
     "source": [
      "Handling Missing Values"
     ]
    },
    {
     "cell_type": "markdown",
     "metadata": {},
     "source": [
      "* We Deleting all the rows which contain '?' or missing values.\n",
      "* This could have also been done by replacing the missing value by the most common value in that column (for categorical attributes) or averaging (for continuous attributes)."
     ]
    },
    {
     "cell_type": "code",
     "collapsed": false,
     "input": [
      "row_idx_to_delete=[]\n",
      "for i in range(0,len(data)):\n",
      "    if \"?\" in data[i]:\n",
      "        row_idx_to_delete.append(i)\n",
      "\n",
      "print len(row_idx_to_delete),\" records have incomplete data and will be deleted\"\n",
      "data=np.delete(data,row_idx_to_delete)"
     ],
     "language": "python",
     "metadata": {},
     "outputs": [
      {
       "output_type": "stream",
       "stream": "stdout",
       "text": [
        "2399  records have incomplete data and will be deleted\n"
       ]
      }
     ],
     "prompt_number": 104
    },
    {
     "cell_type": "heading",
     "level": 3,
     "metadata": {},
     "source": [
      "Converting Attributes to Discrete Type"
     ]
    },
    {
     "cell_type": "markdown",
     "metadata": {},
     "source": [
      "* Firstly, we plot the histogram for age to find out where to split."
     ]
    },
    {
     "cell_type": "code",
     "collapsed": false,
     "input": [
      "hist(data['age'],3);"
     ],
     "language": "python",
     "metadata": {},
     "outputs": [
      {
       "metadata": {},
       "output_type": "display_data",
       "png": "[encoded data removed]",
       "text": [
        "<matplotlib.figure.Figure at 0x107950610>"
       ]
      }
     ],
     "prompt_number": 105
    },
    {
     "cell_type": "markdown",
     "metadata": {},
     "source": [
      "From the histogram, we observe that the attribute age can be split as follows:\n",
      "\n",
      "* 0: age<30\n",
      "* 1: age>=30 and age<=55\n",
      "* 2: age>=55"
     ]
    },
    {
     "cell_type": "code",
     "collapsed": false,
     "input": [
      "idx_age_0=data['age']<30\n",
      "idx_age_1=(data['age']>=30) & (data['age']<=55)\n",
      "idx_age_2=data['age']>55\n",
      "\n",
      "\n",
      "\n",
      "data['age'][idx_age_0]=0\n",
      "data['age'][idx_age_1]=1\n",
      "data['age'][idx_age_2]=2"
     ],
     "language": "python",
     "metadata": {},
     "outputs": [],
     "prompt_number": 106
    },
    {
     "cell_type": "markdown",
     "metadata": {},
     "source": [
      "* Next for workclass attribute we convert categorical quantities into numerical quantities."
     ]
    },
    {
     "cell_type": "code",
     "collapsed": false,
     "input": [
      "workclass_attributes=[\"Private\", \"Self-emp-not-inc\", \"Self-emp-inc\", \"Federal-gov\",\\\n",
      " \"Local-gov\", \"State-gov\", \"Without-pay\", \"Never-worked\"]\n",
      "idx_workclass={}\n",
      "for workclass in workclass_attributes:\n",
      "    idx_workclass[workclass]=data[\"workclass\"]==workclass\n",
      "\n",
      "#Converting the datatype to integer now\n",
      "for i in range(0,len(workclass_attributes)):\n",
      "    data[\"workclass\"][idx_workclass[workclass_attributes[i]]]=int(i)"
     ],
     "language": "python",
     "metadata": {},
     "outputs": [],
     "prompt_number": 107
    },
    {
     "cell_type": "markdown",
     "metadata": {},
     "source": [
      "* Fnlwgt is a continuous attribute. We plot it to estimate a numerical range (since we are not doing regression)."
     ]
    },
    {
     "cell_type": "code",
     "collapsed": false,
     "input": [
      "a=hist(data['fnlwgt'],8)\n",
      "means=[(a[1][i]+a[1][i+1])/2.0 for i in range(0,len(a[1])-1)]\n",
      "means,a[0]"
     ],
     "language": "python",
     "metadata": {},
     "outputs": [
      {
       "metadata": {},
       "output_type": "pyout",
       "prompt_number": 108,
       "text": [
        "([105702.5,\n",
        "  289569.5,\n",
        "  473436.5,\n",
        "  657303.5,\n",
        "  841170.5,\n",
        "  1025037.5,\n",
        "  1208904.5,\n",
        "  1392771.5],\n",
        " array([  1.82830000e+04,   1.04100000e+04,   1.29100000e+03,\n",
        "          1.42000000e+02,   2.10000000e+01,   7.00000000e+00,\n",
        "          5.00000000e+00,   3.00000000e+00]))"
       ]
      },
      {
       "metadata": {},
       "output_type": "display_data",
       "png": "[encoded data removed]",
       "text": [
        "<matplotlib.figure.Figure at 0x107cf0810>"
       ]
      }
     ],
     "prompt_number": 108
    },
    {
     "cell_type": "markdown",
     "metadata": {},
     "source": [
      "Thus the attribute can be split as follows:\n",
      "\n",
      "* 0: fnlwgt<=105702\n",
      "* 1: fnlwgt>105702 and fnlwgt<=289569\n",
      "* 2: fnlwgt>289569"
     ]
    },
    {
     "cell_type": "code",
     "collapsed": false,
     "input": [
      "idx_wgt_0=data['fnlwgt']<=105702\n",
      "idx_wgt_1=(data['fnlwgt']>=105702) & (data['fnlwgt']<=289569) \n",
      "idx_wgt_2=data['fnlwgt']>=289569\n",
      "\n",
      "\n",
      "data['fnlwgt'][idx_wgt_0]=0\n",
      "data['fnlwgt'][idx_wgt_1]=1\n",
      "data['fnlwgt'][idx_wgt_2]=2"
     ],
     "language": "python",
     "metadata": {},
     "outputs": [],
     "prompt_number": 109
    },
    {
     "cell_type": "markdown",
     "metadata": {},
     "source": [
      "* Education is a categorical attribute and is here converted to numerical attribute."
     ]
    },
    {
     "cell_type": "code",
     "collapsed": false,
     "input": [
      "education_attributes=[\"Bachelors\", \"Some-college\", \"11th\", \"HS-grad\", \"Prof-school\", \"Assoc-acdm\", \"Assoc-voc\"\\\n",
      ", \"9th\", \"7th-8th\", \"12th\", \"Masters\", \"1st-4th\", \"10th\", \"Doctorate\", \"5th-6th\", \"Preschool\"]"
     ],
     "language": "python",
     "metadata": {},
     "outputs": [],
     "prompt_number": 110
    },
    {
     "cell_type": "code",
     "collapsed": false,
     "input": [
      "idx_education={}\n",
      "for education in education_attributes:\n",
      "    idx_education[education]=data[\"education\"]==education\n",
      "\n",
      "#Converting the datatype to integer now\n",
      "\n",
      "for i in range(0,len(education_attributes)):\n",
      "    data[\"education\"][idx_education[education_attributes[i]]]=int(i)"
     ],
     "language": "python",
     "metadata": {},
     "outputs": [],
     "prompt_number": 111
    },
    {
     "cell_type": "markdown",
     "metadata": {},
     "source": [
      "* Education number is a continuous numeric attribute."
     ]
    },
    {
     "cell_type": "code",
     "collapsed": false,
     "input": [
      "a=hist(data['education_num'],4)\n",
      "means=[(a[1][i]+a[1][i+1])/2.0 for i in range(0,len(a[1])-1)]\n",
      "means,a[0]"
     ],
     "language": "python",
     "metadata": {},
     "outputs": [
      {
       "metadata": {},
       "output_type": "pyout",
       "prompt_number": 112,
       "text": [
        "([2.875, 6.625, 10.375, 14.125], array([  1041.,   2700.,  18833.,   7588.]))"
       ]
      },
      {
       "metadata": {},
       "output_type": "display_data",
       "png": "[encoded data removed]",
       "text": [
        "<matplotlib.figure.Figure at 0x10d294050>"
       ]
      }
     ],
     "prompt_number": 112
    },
    {
     "cell_type": "code",
     "collapsed": false,
     "input": [
      "idx_enum_0=data['education_num']<=means[0]\n",
      "idx_enum_1=(data['education_num']>means[0]) & (data['education_num']<=means[1]) \n",
      "idx_enum_2=(data['education_num']>=means[1]) & (data['education_num']<=means[2])\n",
      "idx_enum_3=data['education_num']>means[2]\n",
      "\n",
      "\n",
      "data['education_num'][idx_enum_0]=0\n",
      "data['education_num'][idx_enum_1]=1\n",
      "data['education_num'][idx_enum_2]=2\n",
      "data['education_num'][idx_enum_3]=3"
     ],
     "language": "python",
     "metadata": {},
     "outputs": [],
     "prompt_number": 113
    },
    {
     "cell_type": "markdown",
     "metadata": {},
     "source": [
      "* Similarly for all other datatypes we perform similar conversion."
     ]
    },
    {
     "cell_type": "code",
     "collapsed": false,
     "input": [
      "marital_status_attributes=['Married-civ-spouse', 'Divorced', 'Never-married', 'Separated', 'Widowed',\\\n",
      " 'Married-spouse-absent','Married-AF-spouse']"
     ],
     "language": "python",
     "metadata": {},
     "outputs": [],
     "prompt_number": 114
    },
    {
     "cell_type": "code",
     "collapsed": false,
     "input": [
      "idx_marital_status={}\n",
      "for marital_status in marital_status_attributes:\n",
      "    idx_marital_status[marital_status]=data[\"marital_status\"]==marital_status\n",
      "\n",
      "#Converting the datatype to integer now\n",
      "\n",
      "for i in range(0,len(marital_status_attributes)):\n",
      "    data[\"marital_status\"][idx_marital_status[marital_status_attributes[i]]]=int(i)"
     ],
     "language": "python",
     "metadata": {},
     "outputs": [],
     "prompt_number": 115
    },
    {
     "cell_type": "code",
     "collapsed": false,
     "input": [
      "occupation_attributes=['Tech-support', 'Craft-repair', 'Other-service', 'Sales', 'Exec-managerial', 'Prof-specialty', 'Handlers-cleaners',\\\n",
      " 'Machine-op-inspct', 'Adm-clerical', 'Farming-fishing', 'Transport-moving', 'Priv-house-serv', 'Protective-serv', 'Armed-Forces']"
     ],
     "language": "python",
     "metadata": {},
     "outputs": [],
     "prompt_number": 116
    },
    {
     "cell_type": "code",
     "collapsed": false,
     "input": [
      "idx_occupation={}\n",
      "for occupation in occupation_attributes:\n",
      "    idx_occupation[occupation]=data[\"occupation\"]==occupation\n",
      "\n",
      "#Converting the datatype to integer now\n",
      "\n",
      "for i in range(0,len(occupation_attributes)):\n",
      "    data[\"occupation\"][idx_occupation[occupation_attributes[i]]]=int(i)"
     ],
     "language": "python",
     "metadata": {},
     "outputs": [],
     "prompt_number": 117
    },
    {
     "cell_type": "code",
     "collapsed": false,
     "input": [
      "relationship_attributes=['Wife', 'Own-child', 'Husband', 'Not-in-family', 'Other-relative', 'Unmarried']"
     ],
     "language": "python",
     "metadata": {},
     "outputs": [],
     "prompt_number": 118
    },
    {
     "cell_type": "code",
     "collapsed": false,
     "input": [
      "idx_relationship={}\n",
      "for relationship in relationship_attributes:\n",
      "    idx_relationship[relationship]=data[\"relationship\"]==relationship\n",
      "\n",
      "#Converting the datatype to integer now\n",
      "\n",
      "for i in range(0,len(relationship_attributes)):\n",
      "    data[\"relationship\"][idx_relationship[relationship_attributes[i]]]=int(i)"
     ],
     "language": "python",
     "metadata": {},
     "outputs": [],
     "prompt_number": 119
    },
    {
     "cell_type": "code",
     "collapsed": false,
     "input": [
      "race_attributes=['White', 'Asian-Pac-Islander', 'Amer-Indian-Eskimo', 'Other', 'Black']"
     ],
     "language": "python",
     "metadata": {},
     "outputs": [],
     "prompt_number": 120
    },
    {
     "cell_type": "code",
     "collapsed": false,
     "input": [
      "idx_race={}\n",
      "for race in race_attributes:\n",
      "    idx_race[race]=data[\"race\"]==race\n",
      "\n",
      "#Converting the datatype to integer now\n",
      "\n",
      "for i in range(0,len(race_attributes)):\n",
      "    data[\"race\"][idx_race[race_attributes[i]]]=int(i)"
     ],
     "language": "python",
     "metadata": {},
     "outputs": [],
     "prompt_number": 121
    },
    {
     "cell_type": "code",
     "collapsed": false,
     "input": [
      "sex_attributes=['Female', 'Male']"
     ],
     "language": "python",
     "metadata": {},
     "outputs": [],
     "prompt_number": 122
    },
    {
     "cell_type": "code",
     "collapsed": false,
     "input": [
      "idx_sex={}\n",
      "for sex in sex_attributes:\n",
      "    idx_sex[sex]=data[\"sex\"]==sex\n",
      "\n",
      "#Converting the datatype to integer now\n",
      "\n",
      "for i in range(0,len(sex_attributes)):\n",
      "    data[\"sex\"][idx_sex[sex_attributes[i]]]=int(i)"
     ],
     "language": "python",
     "metadata": {},
     "outputs": [],
     "prompt_number": 123
    },
    {
     "cell_type": "code",
     "collapsed": false,
     "input": [
      "a=hist(data['capital_gain'],2)\n",
      "means=[(a[1][i]+a[1][i+1])/2.0 for i in range(0,len(a[1])-1)]\n",
      "means,a[0]"
     ],
     "language": "python",
     "metadata": {},
     "outputs": [
      {
       "metadata": {},
       "output_type": "pyout",
       "prompt_number": 124,
       "text": [
        "([24999.75, 74999.25], array([ 30014.,    148.]))"
       ]
      },
      {
       "metadata": {},
       "output_type": "display_data",
       "png": "[encoded data removed]",
       "text": [
        "<matplotlib.figure.Figure at 0x106189650>"
       ]
      }
     ],
     "prompt_number": 124
    },
    {
     "cell_type": "code",
     "collapsed": false,
     "input": [
      "idx_cap_gain_0=data['capital_gain']<=means[0]\n",
      "idx_cap_gain_1=(data['capital_gain']>means[0]) & (data['capital_gain']<=means[1]) \n",
      "\n",
      "\n",
      "data['capital_gain'][idx_cap_gain_0]=0\n",
      "data['capital_gain'][idx_cap_gain_1]=1"
     ],
     "language": "python",
     "metadata": {},
     "outputs": [],
     "prompt_number": 125
    },
    {
     "cell_type": "code",
     "collapsed": false,
     "input": [
      "a=hist(data['capital_loss'],2)\n",
      "means=[(a[1][i]+a[1][i+1])/2.0 for i in range(0,len(a[1])-1)]\n",
      "means,a[0]"
     ],
     "language": "python",
     "metadata": {},
     "outputs": [
      {
       "metadata": {},
       "output_type": "pyout",
       "prompt_number": 126,
       "text": [
        "([1089.0, 3267.0], array([ 29955.,    207.]))"
       ]
      },
      {
       "metadata": {},
       "output_type": "display_data",
       "png": "[encoded data removed]",
       "text": [
        "<matplotlib.figure.Figure at 0x107931210>"
       ]
      }
     ],
     "prompt_number": 126
    },
    {
     "cell_type": "code",
     "collapsed": false,
     "input": [
      "idx_cap_loss_0=data['capital_loss']<=means[0]\n",
      "idx_cap_loss_1=(data['capital_loss']>means[0]) & (data['capital_loss']<=means[1]) \n",
      "\n",
      "\n",
      "data['capital_loss'][idx_cap_loss_0]=0\n",
      "data['capital_loss'][idx_cap_loss_1]=1"
     ],
     "language": "python",
     "metadata": {},
     "outputs": [],
     "prompt_number": 127
    },
    {
     "cell_type": "code",
     "collapsed": false,
     "input": [
      "a=hist(data['hours_per_week'],4)\n",
      "means=[(a[1][i]+a[1][i+1])/2.0 for i in range(0,len(a[1])-1)]\n",
      "means,a[0]"
     ],
     "language": "python",
     "metadata": {},
     "outputs": [
      {
       "metadata": {},
       "output_type": "pyout",
       "prompt_number": 128,
       "text": [
        "([13.25, 37.75, 62.25, 86.75], array([  3261.,  20708.,   5798.,    395.]))"
       ]
      },
      {
       "metadata": {},
       "output_type": "display_data",
       "png": "[encoded data removed]",
       "text": [
        "<matplotlib.figure.Figure at 0x10efb39d0>"
       ]
      }
     ],
     "prompt_number": 128
    },
    {
     "cell_type": "code",
     "collapsed": false,
     "input": [
      "idx_hours_0=data['hours_per_week']<=means[0]\n",
      "idx_hours_1=(data['hours_per_week']>means[0]) & (data['hours_per_week']<=means[1]) \n",
      "idx_hours_2=(data['hours_per_week']>=means[1]) & (data['hours_per_week']<=means[2])\n",
      "idx_hours_3=data['hours_per_week']>means[2]\n",
      "\n",
      "\n",
      "data['hours_per_week'][idx_hours_0]=0\n",
      "data['hours_per_week'][idx_hours_1]=1\n",
      "data['hours_per_week'][idx_hours_2]=2\n",
      "data['hours_per_week'][idx_hours_3]=3"
     ],
     "language": "python",
     "metadata": {},
     "outputs": [],
     "prompt_number": 129
    },
    {
     "cell_type": "code",
     "collapsed": false,
     "input": [
      "native_country_attributes=['United-States', 'Cambodia', 'England', 'Puerto-Rico', 'Canada', 'Germany', 'Outlying-US(Guam-USVI-etc)'\\\n",
      ",'India', 'Japan', 'Greece', 'South', 'China', 'Cuba', 'Iran', 'Honduras', 'Philippines', 'Italy', 'Poland', 'Jamaica', 'Vietnam'\n",
      ", 'Mexico', 'Portugal', 'Ireland', 'France', 'Dominican-Republic', 'Laos', 'Ecuador', 'Taiwan', 'Haiti', 'Columbia', 'Hungary', 'Guatemala',\n",
      "'Nicaragua', 'Scotland', 'Thailand', 'Yugoslavia', 'El-Salvador', 'Trinadad&Tobago', 'Peru', 'Hong', 'Holand-Netherlands']"
     ],
     "language": "python",
     "metadata": {},
     "outputs": [],
     "prompt_number": 130
    },
    {
     "cell_type": "code",
     "collapsed": false,
     "input": [
      "idx_native_country={}\n",
      "for native_country in native_country_attributes:\n",
      "    idx_native_country[native_country]=data[\"native_country\"]==native_country\n",
      "\n",
      "#Converting the datatype to integer now\n",
      "\n",
      "for i in range(0,len(native_country_attributes)):\n",
      "    data[\"native_country\"][idx_native_country[native_country_attributes[i]]]=int(i)"
     ],
     "language": "python",
     "metadata": {},
     "outputs": [],
     "prompt_number": 131
    },
    {
     "cell_type": "code",
     "collapsed": false,
     "input": [
      "salary_attributes=['<=50K','>50K']"
     ],
     "language": "python",
     "metadata": {},
     "outputs": [],
     "prompt_number": 132
    },
    {
     "cell_type": "code",
     "collapsed": false,
     "input": [
      "idx_salary={}\n",
      "for salary in salary_attributes:\n",
      "    idx_salary[salary]=data[\"salary\"]==salary\n",
      "\n",
      "#Converting the datatype to integer now\n",
      "\n",
      "for i in range(0,len(salary_attributes)):\n",
      "    data[\"salary\"][idx_salary[salary_attributes[i]]]=int(i)"
     ],
     "language": "python",
     "metadata": {},
     "outputs": [],
     "prompt_number": 133
    },
    {
     "cell_type": "markdown",
     "metadata": {},
     "source": [
      "* We save the filtered data after converting into numerical discrete quantities for each attribute."
     ]
    },
    {
     "cell_type": "code",
     "collapsed": false,
     "input": [
      "np.savetxt('filtered.txt',data,fmt=\"%s\",delimiter=',')"
     ],
     "language": "python",
     "metadata": {},
     "outputs": [],
     "prompt_number": 134
    },
    {
     "cell_type": "heading",
     "level": 1,
     "metadata": {},
     "source": [
      "Scaling Data"
     ]
    },
    {
     "cell_type": "markdown",
     "metadata": {},
     "source": [
      "* SVM literature suggests that using attribute values with zero mean will improve the performance. We use scikit-learn's preprocessing module for the same.\n",
      "* From this filtered data, we now need to make a training and a test set. Since my roll number ends in 09, i shall use 9% of data as training set and the remaining as test set. Since the proportion of training data is very less in comparison to test data, the results are bound to be not too good."
     ]
    },
    {
     "cell_type": "code",
     "collapsed": false,
     "input": [
      "from sklearn import preprocessing"
     ],
     "language": "python",
     "metadata": {},
     "outputs": [],
     "prompt_number": 135
    },
    {
     "cell_type": "code",
     "collapsed": false,
     "input": [
      "filtered_data = np.array(np.genfromtxt('filtered.txt', delimiter=',',autostrip=True))"
     ],
     "language": "python",
     "metadata": {},
     "outputs": [],
     "prompt_number": 136
    },
    {
     "cell_type": "code",
     "collapsed": false,
     "input": [
      "scaled_filtered_data = preprocessing.scale(filtered_data)"
     ],
     "language": "python",
     "metadata": {},
     "outputs": [],
     "prompt_number": 137
    },
    {
     "cell_type": "code",
     "collapsed": false,
     "input": [
      "salary=scaled_filtered_data[:,14]\n",
      "scaled_filtered_data=scaled_filtered_data[:,:-1]"
     ],
     "language": "python",
     "metadata": {},
     "outputs": [],
     "prompt_number": 138
    },
    {
     "cell_type": "code",
     "collapsed": false,
     "input": [
      "print salary"
     ],
     "language": "python",
     "metadata": {},
     "outputs": [
      {
       "output_type": "stream",
       "stream": "stdout",
       "text": [
        "[-0.57569132 -0.57569132 -0.57569132 ..., -0.57569132 -0.57569132\n",
        "  1.73704199]\n"
       ]
      }
     ],
     "prompt_number": 139
    },
    {
     "cell_type": "markdown",
     "metadata": {},
     "source": [
      "* We now see the obtained shape of the filtered scaled data."
     ]
    },
    {
     "cell_type": "code",
     "collapsed": false,
     "input": [
      "print scaled_filtered_data.shape"
     ],
     "language": "python",
     "metadata": {},
     "outputs": [
      {
       "output_type": "stream",
       "stream": "stdout",
       "text": [
        "(30162, 14)\n"
       ]
      }
     ],
     "prompt_number": 140
    },
    {
     "cell_type": "markdown",
     "metadata": {},
     "source": [
      "* For the Y attribute, which is in our case salary, we set it to 1 and -1 according to positive and negative class."
     ]
    },
    {
     "cell_type": "code",
     "collapsed": false,
     "input": [
      "from sklearn import svm\n",
      "salary2=np.array([-1]*len(salary))\n",
      "for i in range(0,len(salary2)):\n",
      "    if salary[i]>0:\n",
      "        salary2[i]=1"
     ],
     "language": "python",
     "metadata": {},
     "outputs": [],
     "prompt_number": 141
    },
    {
     "cell_type": "heading",
     "level": 3,
     "metadata": {},
     "source": [
      "Paritioning data into test and train set"
     ]
    },
    {
     "cell_type": "markdown",
     "metadata": {},
     "source": [
      "* 9% of data is randomly chosen for training and the remainig is chosen for testing."
     ]
    },
    {
     "cell_type": "code",
     "collapsed": false,
     "input": [
      "import random,math\n",
      "training_size_fraction=.09\n",
      "test_idx=np.array(random.sample(xrange(len(salary2)), int((1-training_size_fraction)*len(salary2))))\n",
      "train_idx=np.array([x for x in xrange(len(salary2)) if x not in test_idx])\n",
      "test_samples=scaled_filtered_data[test_idx]\n",
      "train_samples=scaled_filtered_data[train_idx]\n",
      "test_out=salary2[test_idx]\n",
      "train_out=salary2[train_idx]"
     ],
     "language": "python",
     "metadata": {},
     "outputs": [],
     "prompt_number": 142
    },
    {
     "cell_type": "heading",
     "level": 3,
     "metadata": {},
     "source": [
      "Results using SMO based LibSVM implementation in Scikit Learn"
     ]
    },
    {
     "cell_type": "markdown",
     "metadata": {},
     "source": [
      "* We use a linear kernel.\n",
      "* We use Python's time module to find the time consumed.\n",
      "* It is based on SMO."
     ]
    },
    {
     "cell_type": "code",
     "collapsed": false,
     "input": [
      "import time"
     ],
     "language": "python",
     "metadata": {},
     "outputs": [],
     "prompt_number": 143
    },
    {
     "cell_type": "code",
     "collapsed": false,
     "input": [
      "clf = svm.SVC(kernel='linear')\n",
      "libsvm_start=time.time()"
     ],
     "language": "python",
     "metadata": {},
     "outputs": [],
     "prompt_number": 144
    },
    {
     "cell_type": "code",
     "collapsed": false,
     "input": [
      "clf.fit(train_samples, train_out)\n",
      "libsvm_train_end=time.time()"
     ],
     "language": "python",
     "metadata": {},
     "outputs": [],
     "prompt_number": 145
    },
    {
     "cell_type": "code",
     "collapsed": false,
     "input": [
      "a=np.array(clf.predict(test_samples).astype(int))\n",
      "libsvm_test_end=time.time()\n",
      "c=a==np.array(test_out)\n",
      "c=np.array(a)==np.array(test_out)"
     ],
     "language": "python",
     "metadata": {},
     "outputs": [],
     "prompt_number": 146
    },
    {
     "cell_type": "code",
     "collapsed": false,
     "input": [
      "print \"Accuracy                                     : \",str(sum(c)*100.0/len(a))+\" %\"\n",
      "print \"Number of support vectors for positive class : \",clf.n_support_[0]\n",
      "print \"Number of support vectors for negative class : \",clf.n_support_[1]\n",
      "print \"Time Required for training                   : \",str(libsvm_train_end-libsvm_start)+\" s\"\n",
      "print \"Time Required for testing                    : \",str(libsvm_test_end-libsvm_train_end)+\" s\""
     ],
     "language": "python",
     "metadata": {},
     "outputs": [
      {
       "output_type": "stream",
       "stream": "stdout",
       "text": [
        "Accuracy                                     :  81.302145954 %\n",
        "Number of support vectors for positive class :  594\n",
        "Number of support vectors for negative class :  577\n",
        "Time Required for training                   :  0.599056005478 s\n",
        "Time Required for testing                    :  0.63839006424 s\n"
       ]
      }
     ],
     "prompt_number": 147
    },
    {
     "cell_type": "heading",
     "level": 1,
     "metadata": {},
     "source": [
      "Results using Dual form based SVMlight implementation provided by the SVMlight authors."
     ]
    },
    {
     "cell_type": "markdown",
     "metadata": {},
     "source": [
      "* SVM Light requires data to be in a specific format and that is what is being done in the next step. We create a test.dat and train.dat accordingly.\n",
      "* Moreover, we compile the svmlight binaries and call them as executables from Python program using subprocess module.\n",
      "* SVMLight is based on working set selection (steepest feasible descent)."
     ]
    },
    {
     "cell_type": "code",
     "collapsed": false,
     "input": [
      "test_data_string=\"\"\n",
      "for i in range(0,len(test_out)):\n",
      "    if test_out[i]==1:\n",
      "        c='+1'\n",
      "    else:\n",
      "        c='-1'\n",
      "    test_data_string=test_data_string+c\n",
      "    for j in range(0,14):\n",
      "        test_data_string=test_data_string+\" \"+str(j+1)+\":\"+str(test_samples[i][j])\n",
      "    test_data_string=test_data_string+\"\\n\"\n",
      "f=open('test.dat','w')\n",
      "f.write(test_data_string)"
     ],
     "language": "python",
     "metadata": {},
     "outputs": []
    },
    {
     "cell_type": "code",
     "collapsed": false,
     "input": [
      "train_data_string=\"\"\n",
      "for i in range(0,len(train_out)):\n",
      "    if train_out[i]==1:\n",
      "        c='+1'\n",
      "    else:\n",
      "        c='-1'\n",
      "    train_data_string=train_data_string+c\n",
      "    for j in range(0,14):\n",
      "        train_data_string=train_data_string+\" \"+str(j+1)+\":\"+str(train_samples[i][j])\n",
      "    train_data_string=train_data_string+\"\\n\"\n",
      "f=open('train.dat','w')\n",
      "f.write(train_data_string)"
     ],
     "language": "python",
     "metadata": {},
     "outputs": []
    },
    {
     "cell_type": "code",
     "collapsed": false,
     "input": [
      "import subprocess"
     ],
     "language": "python",
     "metadata": {},
     "outputs": []
    },
    {
     "cell_type": "code",
     "collapsed": false,
     "input": [
      "svmlight_start=time.time()\n",
      "p = subprocess.Popen('./svm_learn train.dat model', shell=True, stdout=subprocess.PIPE, stderr=subprocess.STDOUT)\n",
      "svmlight_train_end=time.time()\n",
      "train_output= p.stdout.readlines()"
     ],
     "language": "python",
     "metadata": {},
     "outputs": []
    },
    {
     "cell_type": "code",
     "collapsed": false,
     "input": [
      "p = subprocess.Popen('./svm_classify test.dat model', shell=True, stdout=subprocess.PIPE, stderr=subprocess.STDOUT)\n",
      "svmlight_test_end=time.time()\n",
      "test_output= p.stdout.readlines()"
     ],
     "language": "python",
     "metadata": {},
     "outputs": []
    },
    {
     "cell_type": "code",
     "collapsed": false,
     "input": [
      "test_output"
     ],
     "language": "python",
     "metadata": {},
     "outputs": []
    },
    {
     "cell_type": "code",
     "collapsed": false,
     "input": [
      "train_output"
     ],
     "language": "python",
     "metadata": {},
     "outputs": []
    },
    {
     "cell_type": "code",
     "collapsed": false,
     "input": [],
     "language": "python",
     "metadata": {},
     "outputs": []
    }
   ],
   "metadata": {}
  }
 ]
}